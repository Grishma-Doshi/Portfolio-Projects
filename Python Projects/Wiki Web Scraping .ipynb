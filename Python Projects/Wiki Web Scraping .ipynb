{
 "cells": [
  {
   "cell_type": "code",
   "execution_count": 15,
   "id": "99bf1f44-5574-415a-a976-9bfb6f1daa29",
   "metadata": {},
   "outputs": [],
   "source": [
    "from bs4 import BeautifulSoup\n",
    "import requests"
   ]
  },
  {
   "cell_type": "code",
   "execution_count": 17,
   "id": "d8d34624-c620-4195-9e52-816b5f12cbe5",
   "metadata": {},
   "outputs": [],
   "source": [
    "url = \"https://en.wikipedia.org/wiki/List_of_largest_companies_in_the_United_States_by_revenue\"\n",
    "page = requests.get(url)\n",
    "soup = BeautifulSoup(page.text, 'html')"
   ]
  },
  {
   "cell_type": "code",
   "execution_count": 19,
   "id": "26d0d25a-d1c5-41e7-a180-e2a251364542",
   "metadata": {},
   "outputs": [],
   "source": [
    "table = soup.find_all('table')[1]"
   ]
  },
  {
   "cell_type": "code",
   "execution_count": 21,
   "id": "c4665719-2db1-49db-977a-04ebcd066d16",
   "metadata": {},
   "outputs": [],
   "source": [
    "world_titles = table.find_all('th')\n",
    "world_table_titles = [title.text.strip() for title in world_titles]"
   ]
  },
  {
   "cell_type": "code",
   "execution_count": 23,
   "id": "f3c003e2-9923-47a4-acc0-7ed53dc4507e",
   "metadata": {},
   "outputs": [],
   "source": [
    "import pandas as pd"
   ]
  },
  {
   "cell_type": "code",
   "execution_count": 25,
   "id": "26c229ce-150d-4958-93d6-f837c0fc205c",
   "metadata": {},
   "outputs": [],
   "source": [
    "df = pd.DataFrame(columns=world_table_titles)"
   ]
  },
  {
   "cell_type": "code",
   "execution_count": 33,
   "id": "3355cd71-f9f0-48a8-8dba-55e994ccba13",
   "metadata": {},
   "outputs": [],
   "source": [
    "column_data = table.find_all('tr')\n",
    "for row in column_data[1:]:\n",
    "    row_data = row.find_all('td')\n",
    "    individual_row_data = [data.text.strip() for data in row_data]\n",
    "    length = len(df)\n",
    "    df.loc[length]=individual_row_data"
   ]
  },
  {
   "cell_type": "code",
   "execution_count": 39,
   "id": "7be53a9c-c5bc-43e5-9e7a-748f5bcabaa6",
   "metadata": {},
   "outputs": [],
   "source": [
    "df.to_csv(r'C:\\Users\\Grishma\\OneDrive - Fifth&Tech Digital Solutions\\Desktop\\Data Analyst Content\\Wiki Web Scraping\\Companies.csv', index=False)\n"
   ]
  },
  {
   "cell_type": "code",
   "execution_count": null,
   "id": "f00ed431-20d5-4a93-b604-3a2e3f1502dc",
   "metadata": {},
   "outputs": [],
   "source": []
  }
 ],
 "metadata": {
  "kernelspec": {
   "display_name": "Python 3 (ipykernel)",
   "language": "python",
   "name": "python3"
  },
  "language_info": {
   "codemirror_mode": {
    "name": "ipython",
    "version": 3
   },
   "file_extension": ".py",
   "mimetype": "text/x-python",
   "name": "python",
   "nbconvert_exporter": "python",
   "pygments_lexer": "ipython3",
   "version": "3.12.4"
  }
 },
 "nbformat": 4,
 "nbformat_minor": 5
}
