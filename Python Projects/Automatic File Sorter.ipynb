{
 "cells": [
  {
   "cell_type": "code",
   "execution_count": 23,
   "id": "e422347b-a936-41e0-9034-7c6235c2227b",
   "metadata": {},
   "outputs": [],
   "source": [
    "import os, shutil\n",
    "\n",
    "path = r\"C:/Users/Grishma/OneDrive - Fifth&Tech Digital Solutions/Desktop/Data Analyst Content/Python Project/\""
   ]
  },
  {
   "cell_type": "code",
   "execution_count": 25,
   "id": "fa832dad-05f9-4786-b1c8-11f7db49faf3",
   "metadata": {},
   "outputs": [],
   "source": [
    "folder_names = ['csv files', 'image files', 'sql files']\n",
    "\n",
    "for fn in range(0,3):\n",
    "    if not os.path.exists(path + folder_names[fn]):\n",
    "        os.makedirs(path + folder_names[fn])"
   ]
  },
  {
   "cell_type": "code",
   "execution_count": 33,
   "id": "e2ea2cdb-5227-483f-a42a-191e413f4a24",
   "metadata": {},
   "outputs": [],
   "source": [
    "file_name = os.listdir(path)\n",
    "\n",
    "for file in file_name:\n",
    "    if \".csv\" in file and not os.path.exists(path + \"csv files/\" + file):\n",
    "        shutil.move(path + file, path + \"csv files/\" + file)\n",
    "    elif \".sql\" in file and not os.path.exists(path + \"sql files/\" + file):\n",
    "        shutil.move(path + file, path + \"sql files/\" + file)\n",
    "    elif \".png\" in file and not os.path.exists(path + \"image files/\" + file):\n",
    "        shutil.move(path + file, path + \"image files/\" + file)\n",
    "    elif \".jpg\" in file and not os.path.exists(path + \"image files/\" + file):\n",
    "        shutil.move(path + file, path + \"image files/\" + file)"
   ]
  },
  {
   "cell_type": "code",
   "execution_count": null,
   "id": "ef04ee9f-1110-4a21-ad73-a80e30eab3c3",
   "metadata": {},
   "outputs": [],
   "source": []
  }
 ],
 "metadata": {
  "kernelspec": {
   "display_name": "Python 3 (ipykernel)",
   "language": "python",
   "name": "python3"
  },
  "language_info": {
   "codemirror_mode": {
    "name": "ipython",
    "version": 3
   },
   "file_extension": ".py",
   "mimetype": "text/x-python",
   "name": "python",
   "nbconvert_exporter": "python",
   "pygments_lexer": "ipython3",
   "version": "3.12.4"
  }
 },
 "nbformat": 4,
 "nbformat_minor": 5
}
