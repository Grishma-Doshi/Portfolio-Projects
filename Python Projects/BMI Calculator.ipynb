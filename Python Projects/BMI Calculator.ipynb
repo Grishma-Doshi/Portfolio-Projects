{
 "cells": [
  {
   "cell_type": "code",
   "execution_count": 7,
   "id": "4d66446e-9dc4-412a-aac0-49f677f8963e",
   "metadata": {},
   "outputs": [
    {
     "name": "stdin",
     "output_type": "stream",
     "text": [
      "Enter your name:  Grishma\n",
      "Enter your weight in pounds:  123\n",
      "Enter your height in inches:  62\n"
     ]
    },
    {
     "name": "stdout",
     "output_type": "stream",
     "text": [
      "Grishma, Your BMI: 22.494536940686785 - You are normal weight.\n"
     ]
    }
   ],
   "source": [
    "name = input(\"Enter your name: \")\n",
    "\n",
    "weight = int(input(\"Enter your weight in pounds: \"))\n",
    "\n",
    "height = int(input(\"Enter your height in inches: \"))\n",
    "\n",
    "BMI = (weight * 703) / (height * height)\n",
    "\n",
    "if BMI > 0:\n",
    "    if(BMI < 18.5):\n",
    "        print(name + \", Your BMI: \" + str(BMI) + \" - \" + \"You are underweight.\")\n",
    "    elif(BMI<=24.9):\n",
    "        print(name + \", Your BMI: \" + str(BMI) + \" - \" + \"You are normal weight.\")\n",
    "    elif(BMI<=29.9):\n",
    "        print(name + \", Your BMI: \" + str(BMI) + \" - \" + \"You are over weight.\")\n",
    "    elif(BMI<=34.9):\n",
    "        print(name + \", Your BMI: \" + str(BMI) + \" - \" + \"You are obese.\")\n",
    "    elif(BMI<=39.9):\n",
    "        print(name + \", Your BMI: \" + str(BMI) + \" - \" + \"You are severely obese.\")\n",
    "    else:\n",
    "        print(name + \", Your BMI: \" + str(BMI) + \" - \" + \"You are morbidly obese.\")\n",
    "else:\n",
    "        print(\"Enter valid inputs\")"
   ]
  }
 ],
 "metadata": {
  "kernelspec": {
   "display_name": "Python 3 (ipykernel)",
   "language": "python",
   "name": "python3"
  },
  "language_info": {
   "codemirror_mode": {
    "name": "ipython",
    "version": 3
   },
   "file_extension": ".py",
   "mimetype": "text/x-python",
   "name": "python",
   "nbconvert_exporter": "python",
   "pygments_lexer": "ipython3",
   "version": "3.12.4"
  }
 },
 "nbformat": 4,
 "nbformat_minor": 5
}
